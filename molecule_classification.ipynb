{
  "cells": [
    {
      "cell_type": "markdown",
      "metadata": {
        "id": "sb4OwafjMP4B"
      },
      "source": [
        "# Import packages"
      ]
    },
    {
      "cell_type": "code",
      "execution_count": 8,
      "metadata": {
        "id": "UvpROFhuL9NT"
      },
      "outputs": [],
      "source": [
        "import pandas as pd\n",
        "from rdkit import Chem\n",
        "from sklearn.model_selection import train_test_split\n",
        "from sklearn.preprocessing import LabelEncoder\n",
        "import torch\n",
        "from torch_geometric.data import Data\n",
        "from torch_geometric.loader import DataLoader\n",
        "from torch_geometric.nn import GCNConv, global_mean_pool\n",
        "import torch_geometric.transforms as T"
      ]
    },
    {
      "cell_type": "markdown",
      "metadata": {
        "id": "aOCdOli6MhML"
      },
      "source": [
        "# Read file and filter data"
      ]
    },
    {
      "cell_type": "code",
      "execution_count": null,
      "metadata": {
        "colab": {
          "base_uri": "https://localhost:8080/"
        },
        "id": "_aZg_lOxMS83",
        "outputId": "733bf59b-dd27-436f-f5c9-9136077cbc38"
      },
      "outputs": [],
      "source": [
        "chembl_df = pd.read_csv(\"./data/ChEMBL.csv\", sep=\";\", low_memory=False)\n",
        "chembl_df.shape"
      ]
    },
    {
      "cell_type": "code",
      "execution_count": null,
      "metadata": {
        "colab": {
          "base_uri": "https://localhost:8080/"
        },
        "id": "c5iMtcG7Lpq6",
        "outputId": "a13fbf77-c0d0-40e8-abfe-c5ed84846026"
      },
      "outputs": [],
      "source": [
        "chembl_df.dtypes"
      ]
    },
    {
      "cell_type": "markdown",
      "metadata": {
        "id": "6FTI0IplOI_f"
      },
      "source": [
        "SMILES is needed to get graph representation of a molecule. Thus, missing values should be removed."
      ]
    },
    {
      "cell_type": "code",
      "execution_count": null,
      "metadata": {
        "colab": {
          "base_uri": "https://localhost:8080/"
        },
        "id": "m0I_W0JiNOQU",
        "outputId": "95d486fb-8994-49df-9265-2d0126e5e06e"
      },
      "outputs": [],
      "source": [
        "chembl_df[\"Smiles\"].isna().sum()"
      ]
    },
    {
      "cell_type": "code",
      "execution_count": null,
      "metadata": {
        "colab": {
          "base_uri": "https://localhost:8080/"
        },
        "id": "L_cbsv27NpLw",
        "outputId": "0c204891-3624-4318-f1d4-0600a5f30bc3"
      },
      "outputs": [],
      "source": [
        "chembl_df.dropna(subset=[\"Smiles\"], inplace=True)\n",
        "chembl_df.shape"
      ]
    },
    {
      "cell_type": "code",
      "execution_count": null,
      "metadata": {
        "colab": {
          "base_uri": "https://localhost:8080/"
        },
        "id": "8znohTezOqXZ",
        "outputId": "5ad103cb-c778-48e4-b5f6-c24256dec571"
      },
      "outputs": [],
      "source": [
        "chembl_df[\"Smiles\"].isna().sum()"
      ]
    },
    {
      "cell_type": "markdown",
      "metadata": {
        "id": "vE5wp9h6PdIZ"
      },
      "source": [
        "Drop duplicates."
      ]
    },
    {
      "cell_type": "code",
      "execution_count": null,
      "metadata": {
        "colab": {
          "base_uri": "https://localhost:8080/"
        },
        "id": "vYhsBPFWPhS3",
        "outputId": "233b2a65-b12f-442c-bd97-1d4acb26847f"
      },
      "outputs": [],
      "source": [
        "chembl_df.drop_duplicates(subset=[\"Smiles\"], inplace=True)\n",
        "chembl_df.shape"
      ]
    },
    {
      "cell_type": "markdown",
      "metadata": {
        "id": "omCA6FDASVOX"
      },
      "source": [
        "All SMILES that include non-concatenation bonds and cannot be represented as a connected graph, should be removed too."
      ]
    },
    {
      "cell_type": "code",
      "execution_count": null,
      "metadata": {
        "colab": {
          "base_uri": "https://localhost:8080/"
        },
        "id": "1Nqpnth7P96q",
        "outputId": "bae2bfb1-486c-4ec7-d781-b227d7527dd5"
      },
      "outputs": [],
      "source": [
        "chembl_df = chembl_df[~chembl_df[\"Smiles\"].str.contains(\"\\.\")]\n",
        "chembl_df[chembl_df[\"Smiles\"].str.contains(\"\\.\")][\"Smiles\"].sum()"
      ]
    },
    {
      "cell_type": "code",
      "execution_count": null,
      "metadata": {
        "colab": {
          "base_uri": "https://localhost:8080/"
        },
        "id": "zyY15da5S2N9",
        "outputId": "5296fee9-9486-48af-9ca7-9fb7e077db9c"
      },
      "outputs": [],
      "source": [
        "chembl_df.shape"
      ]
    },
    {
      "cell_type": "markdown",
      "metadata": {
        "id": "G6ldOIzbZdXX"
      },
      "source": [
        "Remove SMILES with ionized atoms."
      ]
    },
    {
      "cell_type": "code",
      "execution_count": null,
      "metadata": {
        "colab": {
          "base_uri": "https://localhost:8080/"
        },
        "id": "ijhwITTIXsqi",
        "outputId": "d921a5c3-bbcf-4862-b0fd-48b8f38d0d53"
      },
      "outputs": [],
      "source": [
        "chembl_df = chembl_df[~chembl_df.Smiles.str.contains(\"\\+\")]\n",
        "chembl_df.shape"
      ]
    },
    {
      "cell_type": "code",
      "execution_count": null,
      "metadata": {
        "colab": {
          "base_uri": "https://localhost:8080/"
        },
        "id": "RQPbXZyPev1a",
        "outputId": "0f11b8e9-849e-4b13-fe3f-19877473be8a"
      },
      "outputs": [],
      "source": [
        "chembl_df = chembl_df[~chembl_df.Smiles.str.contains(\"-]\")]\n",
        "chembl_df.shape"
      ]
    },
    {
      "cell_type": "markdown",
      "metadata": {
        "id": "bxEx3zMdPDL0"
      },
      "source": [
        "SMILES can be converted into molecules using RDKit package. Hence, SMILES that cannot be converted should be removed too."
      ]
    },
    {
      "cell_type": "code",
      "execution_count": null,
      "metadata": {
        "colab": {
          "base_uri": "https://localhost:8080/"
        },
        "id": "Iv4f9w1rO7IU",
        "outputId": "8a3f647b-fe74-4e99-d614-9ae1af64ebce"
      },
      "outputs": [],
      "source": [
        "chembl_df[\"to_mol\"] = chembl_df[\"Smiles\"].apply(\n",
        "    lambda smiles: Chem.MolFromSmiles(smiles) is not None\n",
        ")\n",
        "chembl_df[chembl_df[\"to_mol\"]].shape"
      ]
    },
    {
      "cell_type": "markdown",
      "metadata": {
        "id": "vPMfqx0xTl01"
      },
      "source": [
        "# Choose data for graph classification"
      ]
    },
    {
      "cell_type": "code",
      "execution_count": null,
      "metadata": {
        "colab": {
          "base_uri": "https://localhost:8080/"
        },
        "id": "EmDMxKLWTjqv",
        "outputId": "9857e0a2-d853-485c-d707-3faba88cf46e"
      },
      "outputs": [],
      "source": [
        "chembl_df[\"Molecular Species\"].value_counts(dropna=False)"
      ]
    },
    {
      "cell_type": "markdown",
      "metadata": {
        "id": "5KRN8HwGUeMY"
      },
      "source": [
        "Remove rows that contains None in Molecular Species column."
      ]
    },
    {
      "cell_type": "code",
      "execution_count": null,
      "metadata": {
        "colab": {
          "base_uri": "https://localhost:8080/"
        },
        "id": "NZp5SAJ2T2f9",
        "outputId": "d6111134-f1e8-4c29-d29b-8e5d2b48472f"
      },
      "outputs": [],
      "source": [
        "chembl_df = chembl_df[chembl_df[\"Molecular Species\"] != \"None\"]\n",
        "chembl_df.shape"
      ]
    },
    {
      "cell_type": "markdown",
      "metadata": {
        "id": "zixlHR7lXRUr"
      },
      "source": [
        "Choose 100 random records for every Species."
      ]
    },
    {
      "cell_type": "code",
      "execution_count": null,
      "metadata": {
        "colab": {
          "base_uri": "https://localhost:8080/"
        },
        "id": "3uklTe1EVFRK",
        "outputId": "af455c57-9b98-4ea2-ccf5-95da4df3b373"
      },
      "outputs": [],
      "source": [
        "dataset_df = chembl_df.groupby(by=[\"Molecular Species\"]).sample(n=100, random_state=21)\n",
        "dataset_df.shape"
      ]
    },
    {
      "cell_type": "code",
      "execution_count": null,
      "metadata": {
        "colab": {
          "base_uri": "https://localhost:8080/",
          "height": 206
        },
        "id": "5R6ef-4bsfak",
        "outputId": "e6834d9d-1383-4e15-ff7c-4814ba34e2d7"
      },
      "outputs": [],
      "source": [
        "dataset_df = dataset_df[[\"Smiles\", \"Molecular Species\"]]\n",
        "dataset_df.head()"
      ]
    },
    {
      "cell_type": "code",
      "execution_count": 24,
      "metadata": {
        "id": "uVNJ8wxstpP-"
      },
      "outputs": [],
      "source": [
        "dataset_df[\"target\"] = LabelEncoder().fit_transform(dataset_df[\"Molecular Species\"])"
      ]
    },
    {
      "cell_type": "code",
      "execution_count": 25,
      "metadata": {
        "id": "mFMThEFit09h"
      },
      "outputs": [],
      "source": [
        "train_data, test_data = train_test_split(\n",
        "    dataset_df, stratify=dataset_df[\"target\"], test_size=0.2, random_state=21\n",
        ")"
      ]
    },
    {
      "cell_type": "code",
      "execution_count": null,
      "metadata": {
        "colab": {
          "base_uri": "https://localhost:8080/",
          "height": 206
        },
        "id": "Tihra0qNuewB",
        "outputId": "dc360e2d-f7ce-4e6a-9c3e-cbfc050d1883"
      },
      "outputs": [],
      "source": [
        "train_data.groupby(\"target\").count()"
      ]
    },
    {
      "cell_type": "code",
      "execution_count": null,
      "metadata": {
        "id": "RIO21O1Gv6b0"
      },
      "outputs": [],
      "source": [
        "train_data.to_csv(\n",
        "    \"./data/train_data.csv\",\n",
        "    index=False,\n",
        ")\n",
        "test_data.to_csv(\n",
        "    \"./data/test_data.csv\",\n",
        "    index=False,\n",
        ")"
      ]
    },
    {
      "cell_type": "markdown",
      "metadata": {
        "id": "qaqBANw0JJfL"
      },
      "source": [
        "# Construct graphs"
      ]
    },
    {
      "cell_type": "code",
      "execution_count": 27,
      "metadata": {
        "id": "iplnMeEkwXag"
      },
      "outputs": [],
      "source": [
        "def get_one_hot_encoding(x, permitted_list):\n",
        "    if x not in permitted_list:\n",
        "        x = permitted_list[-1]\n",
        "\n",
        "    one_hot_encoded_x = [\n",
        "        int(is_in_list) for is_in_list in map(lambda s: x == s, permitted_list)\n",
        "    ]\n",
        "\n",
        "    return one_hot_encoded_x\n",
        "\n",
        "\n",
        "def get_node_features(mol):\n",
        "    permitted_list_of_atoms = [\n",
        "        \"C\",\n",
        "        \"N\",\n",
        "        \"O\",\n",
        "        \"S\",\n",
        "        \"F\",\n",
        "        \"Si\",\n",
        "        \"P\",\n",
        "        \"Cl\",\n",
        "        \"Br\",\n",
        "        \"Mg\",\n",
        "        \"Na\",\n",
        "        \"Ca\",\n",
        "        \"Fe\",\n",
        "        \"As\",\n",
        "        \"Al\",\n",
        "        \"I\",\n",
        "        \"B\",\n",
        "        \"V\",\n",
        "        \"K\",\n",
        "        \"Tl\",\n",
        "        \"Yb\",\n",
        "        \"Sb\",\n",
        "        \"Sn\",\n",
        "        \"Ag\",\n",
        "        \"Pd\",\n",
        "        \"Co\",\n",
        "        \"Se\",\n",
        "        \"Ti\",\n",
        "        \"Zn\",\n",
        "        \"Li\",\n",
        "        \"Ge\",\n",
        "        \"Cu\",\n",
        "        \"Au\",\n",
        "        \"Ni\",\n",
        "        \"Cd\",\n",
        "        \"In\",\n",
        "        \"Mn\",\n",
        "        \"Zr\",\n",
        "        \"Cr\",\n",
        "        \"Pt\",\n",
        "        \"Hg\",\n",
        "        \"Pb\",\n",
        "        \"Unknown\",\n",
        "    ]\n",
        "    permitted_list_of_hybridization = [\n",
        "        \"S\",\n",
        "        \"SP\",\n",
        "        \"SP2\",\n",
        "        \"SP3\",\n",
        "        \"SP3D\",\n",
        "        \"SP3D2\",\n",
        "        \"OTHER\",\n",
        "    ]\n",
        "    permitted_list_of_formal_charge = [-3, -2, -1, 0, 1, 2, 3, \"Extreme\"]\n",
        "\n",
        "    x = []\n",
        "\n",
        "    for atom in mol.GetAtoms():\n",
        "        features = []\n",
        "\n",
        "        features.extend(get_one_hot_encoding(atom.GetSymbol(), permitted_list_of_atoms))\n",
        "        features.extend(\n",
        "            get_one_hot_encoding(\n",
        "                atom.GetHybridization(), permitted_list_of_hybridization\n",
        "            )\n",
        "        )\n",
        "        features.extend(\n",
        "            get_one_hot_encoding(\n",
        "                atom.GetFormalCharge(), permitted_list_of_formal_charge\n",
        "            )\n",
        "        )\n",
        "        features.append(atom.GetIsAromatic())\n",
        "        features.append(atom.IsInRing())\n",
        "\n",
        "        x.append(features)\n",
        "\n",
        "    return torch.tensor(x, dtype=torch.float)\n",
        "\n",
        "\n",
        "def get_edge_indices(mol):\n",
        "    start = []\n",
        "    end = []\n",
        "\n",
        "    for bond in mol.GetBonds():\n",
        "        start.append(bond.GetBeginAtomIdx())\n",
        "        end.append(bond.GetEndAtomIdx())\n",
        "\n",
        "    return torch.tensor([start, end], dtype=torch.long)\n",
        "\n",
        "\n",
        "def get_edge_weights(mol):\n",
        "    edge_weight = []\n",
        "\n",
        "    for bond in mol.GetBonds():\n",
        "        edge_weight.append([bond.GetBondTypeAsDouble()])\n",
        "\n",
        "    return torch.tensor(edge_weight, dtype=torch.float)\n",
        "\n",
        "\n",
        "def mol_to_pyg_graph(mol, y):\n",
        "    x = get_node_features(mol)\n",
        "    edge_index = get_edge_indices(mol)\n",
        "    edge_weight = get_edge_weights(mol)\n",
        "    y = torch.tensor([y], dtype=torch.long)\n",
        "\n",
        "    return T.NormalizeFeatures()(\n",
        "        T.ToUndirected()(Data(x=x, edge_index=edge_index, edge_weight=edge_weight, y=y))\n",
        "    )"
      ]
    },
    {
      "cell_type": "code",
      "execution_count": 28,
      "metadata": {
        "id": "HEpopYLtLbt-"
      },
      "outputs": [],
      "source": [
        "train_df = pd.read_csv(\n",
        "    \"./data/train_data.csv\"\n",
        ")\n",
        "test_df = pd.read_csv(\n",
        "    \"./data/test_data.csv\"\n",
        ")"
      ]
    },
    {
      "cell_type": "code",
      "execution_count": 29,
      "metadata": {
        "id": "N0ERZc0fLA4x"
      },
      "outputs": [],
      "source": [
        "train_data = [\n",
        "    mol_to_pyg_graph(Chem.MolFromSmiles(smiles), y)\n",
        "    for smiles, y in train_df[[\"Smiles\", \"target\"]].values\n",
        "]\n",
        "test_data = [\n",
        "    mol_to_pyg_graph(Chem.MolFromSmiles(smiles), y)\n",
        "    for smiles, y in test_df[[\"Smiles\", \"target\"]].values\n",
        "]"
      ]
    },
    {
      "cell_type": "markdown",
      "metadata": {
        "id": "8AAYnyJNOMwb"
      },
      "source": [
        "# Create loader for mini-batching"
      ]
    },
    {
      "cell_type": "code",
      "execution_count": 32,
      "metadata": {
        "id": "9_KT3xhqOMId"
      },
      "outputs": [],
      "source": [
        "train_loader = DataLoader(train_data, batch_size=64, shuffle=True)\n",
        "test_loader = DataLoader(test_data, batch_size=64, shuffle=False)"
      ]
    },
    {
      "cell_type": "markdown",
      "metadata": {
        "id": "XvT0_9odOJ7b"
      },
      "source": [
        "# Build GCN"
      ]
    },
    {
      "cell_type": "code",
      "execution_count": 33,
      "metadata": {
        "id": "EoY-o6NOOCXT"
      },
      "outputs": [],
      "source": [
        "class GCN(torch.nn.Module):\n",
        "    def __init__(self, hidden_channels):\n",
        "        super(GCN, self).__init__()\n",
        "\n",
        "        self.conv1 = GCNConv(60, hidden_channels)\n",
        "        self.conv2 = GCNConv(hidden_channels, hidden_channels)\n",
        "        self.conv3 = GCNConv(hidden_channels, hidden_channels)\n",
        "        self.lin = torch.nn.Linear(hidden_channels, 4)\n",
        "\n",
        "    def forward(self, x, edge_index, edge_weight, batch):\n",
        "        x = self.conv1(x, edge_index, edge_weight)\n",
        "        x = x.relu()\n",
        "        x = self.conv2(x, edge_index, edge_weight)\n",
        "        x = x.relu()\n",
        "        x = self.conv3(x, edge_index, edge_weight)\n",
        "\n",
        "        x = global_mean_pool(x, batch)\n",
        "\n",
        "        x = torch.nn.functional.dropout(x, p=0.5, training=self.training)\n",
        "\n",
        "        x = self.lin(x)\n",
        "\n",
        "        return x"
      ]
    },
    {
      "cell_type": "code",
      "execution_count": null,
      "metadata": {
        "colab": {
          "base_uri": "https://localhost:8080/"
        },
        "id": "_TdnzLOsRK1_",
        "outputId": "0cae637c-57dc-4d4c-d157-6c1c93cb7abc"
      },
      "outputs": [],
      "source": [
        "model = GCN(hidden_channels=64)\n",
        "optimizer = torch.optim.Adam(model.parameters(), lr=0.01)\n",
        "criterion = torch.nn.CrossEntropyLoss()\n",
        "\n",
        "\n",
        "def train():\n",
        "    model.train()\n",
        "\n",
        "    for data in train_loader:\n",
        "        out = model(\n",
        "            data.x, data.edge_index, data.edge_weight, data.batch\n",
        "        )\n",
        "        loss = criterion(out, data.y)\n",
        "        loss.backward()\n",
        "        optimizer.step()\n",
        "        optimizer.zero_grad()\n",
        "\n",
        "\n",
        "def test(loader):\n",
        "    model.eval()\n",
        "\n",
        "    correct = 0\n",
        "\n",
        "    for data in loader:\n",
        "        out = model(data.x, data.edge_index, data.edge_weight, data.batch)\n",
        "        pred = out.argmax(dim=1)\n",
        "        correct += int((pred == data.y).sum())\n",
        "\n",
        "    return correct / len(loader.dataset)\n",
        "\n",
        "\n",
        "for epoch in range(1, 151):\n",
        "    train()\n",
        "    train_acc = test(train_loader)\n",
        "    test_acc = test(test_loader)\n",
        "    print(\n",
        "        f\"Epoch: {epoch:03d}, Train Acc: {train_acc:.2f}, Test Acc: {test_acc:.2f}\"\n",
        "    )"
      ]
    }
  ],
  "metadata": {
    "colab": {
      "collapsed_sections": [
        "H20R7lCwL3GO"
      ],
      "name": "molecule_classification.ipynb",
      "provenance": []
    },
    "kernelspec": {
      "display_name": "Python 3",
      "name": "python3"
    },
    "language_info": {
      "name": "python"
    }
  },
  "nbformat": 4,
  "nbformat_minor": 0
}
